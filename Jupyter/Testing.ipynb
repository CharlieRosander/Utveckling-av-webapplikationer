{
 "cells": [
  {
   "cell_type": "code",
   "execution_count": 1,
   "id": "ae7cefb3",
   "metadata": {},
   "outputs": [],
   "source": [
    "import pandas as pd"
   ]
  },
  {
   "cell_type": "code",
   "execution_count": 2,
   "id": "11de6a75",
   "metadata": {},
   "outputs": [],
   "source": [
    "df = pd.read_csv(\"menu.csv\")"
   ]
  },
  {
   "cell_type": "code",
   "execution_count": 3,
   "id": "e5879979",
   "metadata": {},
   "outputs": [
    {
     "data": {
      "text/html": [
       "<div>\n",
       "<style scoped>\n",
       "    .dataframe tbody tr th:only-of-type {\n",
       "        vertical-align: middle;\n",
       "    }\n",
       "\n",
       "    .dataframe tbody tr th {\n",
       "        vertical-align: top;\n",
       "    }\n",
       "\n",
       "    .dataframe thead th {\n",
       "        text-align: right;\n",
       "    }\n",
       "</style>\n",
       "<table border=\"1\" class=\"dataframe\">\n",
       "  <thead>\n",
       "    <tr style=\"text-align: right;\">\n",
       "      <th></th>\n",
       "      <th>id</th>\n",
       "      <th>Name</th>\n",
       "      <th>Price</th>\n",
       "      <th>Size</th>\n",
       "      <th>Toppings</th>\n",
       "    </tr>\n",
       "  </thead>\n",
       "  <tbody>\n",
       "    <tr>\n",
       "      <th>0</th>\n",
       "      <td>1</td>\n",
       "      <td>Margherita</td>\n",
       "      <td>10</td>\n",
       "      <td>Medium</td>\n",
       "      <td>Tomato sauce, mozzarella</td>\n",
       "    </tr>\n",
       "    <tr>\n",
       "      <th>1</th>\n",
       "      <td>2</td>\n",
       "      <td>Pepperoni</td>\n",
       "      <td>11</td>\n",
       "      <td>Medium</td>\n",
       "      <td>Tomato sauce, mozzarella, pepperoni</td>\n",
       "    </tr>\n",
       "    <tr>\n",
       "      <th>2</th>\n",
       "      <td>3</td>\n",
       "      <td>Hawaii</td>\n",
       "      <td>11</td>\n",
       "      <td>Medium</td>\n",
       "      <td>Tomato sauce, mozzarella, ham, pineapple</td>\n",
       "    </tr>\n",
       "    <tr>\n",
       "      <th>3</th>\n",
       "      <td>4</td>\n",
       "      <td>Vegetarian</td>\n",
       "      <td>11</td>\n",
       "      <td>Medium</td>\n",
       "      <td>Tomato sauce, mozzarella, mushrooms, olives, p...</td>\n",
       "    </tr>\n",
       "    <tr>\n",
       "      <th>4</th>\n",
       "      <td>5</td>\n",
       "      <td>Seafood</td>\n",
       "      <td>12</td>\n",
       "      <td>Medium</td>\n",
       "      <td>Tomato sauce, mozzarella, shrimp, crab, tuna</td>\n",
       "    </tr>\n",
       "    <tr>\n",
       "      <th>5</th>\n",
       "      <td>6</td>\n",
       "      <td>Carbonara</td>\n",
       "      <td>12</td>\n",
       "      <td>Medium</td>\n",
       "      <td>Tomato sauce, mozzarella, bacon, egg</td>\n",
       "    </tr>\n",
       "    <tr>\n",
       "      <th>6</th>\n",
       "      <td>7</td>\n",
       "      <td>Quattro Stagioni</td>\n",
       "      <td>12</td>\n",
       "      <td>Large</td>\n",
       "      <td>Tomato sauce, mozzarella, ham, mushrooms, arti...</td>\n",
       "    </tr>\n",
       "    <tr>\n",
       "      <th>7</th>\n",
       "      <td>8</td>\n",
       "      <td>Quattro Formaggi</td>\n",
       "      <td>12</td>\n",
       "      <td>Large</td>\n",
       "      <td>Tomato sauce, mozzarella, gorgonzola, parmesan...</td>\n",
       "    </tr>\n",
       "    <tr>\n",
       "      <th>8</th>\n",
       "      <td>9</td>\n",
       "      <td>Napoli</td>\n",
       "      <td>13</td>\n",
       "      <td>Large</td>\n",
       "      <td>Tomato sauce, mozzarella, anchovies, capers</td>\n",
       "    </tr>\n",
       "    <tr>\n",
       "      <th>9</th>\n",
       "      <td>10</td>\n",
       "      <td>Calzone</td>\n",
       "      <td>13</td>\n",
       "      <td>Large</td>\n",
       "      <td>Tomato sauce, mozzarella, ham, mushrooms, peppers</td>\n",
       "    </tr>\n",
       "  </tbody>\n",
       "</table>\n",
       "</div>"
      ],
      "text/plain": [
       "   id              Name  Price    Size  \\\n",
       "0   1        Margherita     10  Medium   \n",
       "1   2         Pepperoni     11  Medium   \n",
       "2   3            Hawaii     11  Medium   \n",
       "3   4        Vegetarian     11  Medium   \n",
       "4   5           Seafood     12  Medium   \n",
       "5   6         Carbonara     12  Medium   \n",
       "6   7  Quattro Stagioni     12   Large   \n",
       "7   8  Quattro Formaggi     12   Large   \n",
       "8   9            Napoli     13   Large   \n",
       "9  10           Calzone     13   Large   \n",
       "\n",
       "                                            Toppings  \n",
       "0                           Tomato sauce, mozzarella  \n",
       "1                Tomato sauce, mozzarella, pepperoni  \n",
       "2           Tomato sauce, mozzarella, ham, pineapple  \n",
       "3  Tomato sauce, mozzarella, mushrooms, olives, p...  \n",
       "4       Tomato sauce, mozzarella, shrimp, crab, tuna  \n",
       "5               Tomato sauce, mozzarella, bacon, egg  \n",
       "6  Tomato sauce, mozzarella, ham, mushrooms, arti...  \n",
       "7  Tomato sauce, mozzarella, gorgonzola, parmesan...  \n",
       "8        Tomato sauce, mozzarella, anchovies, capers  \n",
       "9  Tomato sauce, mozzarella, ham, mushrooms, peppers  "
      ]
     },
     "execution_count": 3,
     "metadata": {},
     "output_type": "execute_result"
    }
   ],
   "source": [
    "df"
   ]
  },
  {
   "cell_type": "code",
   "execution_count": 4,
   "id": "a974cc2d",
   "metadata": {},
   "outputs": [],
   "source": [
    "data = {\"id\":[15], \"Name\":[\"Fis\"], \"Price\":[20], \"Size\":[\"Large\"], \"Toppings\": [\"Bajskörvar\"]}"
   ]
  },
  {
   "cell_type": "code",
   "execution_count": 5,
   "id": "713d6820",
   "metadata": {},
   "outputs": [],
   "source": [
    "entry = pd.DataFrame(data)"
   ]
  },
  {
   "cell_type": "code",
   "execution_count": 6,
   "id": "3190dba5",
   "metadata": {},
   "outputs": [
    {
     "data": {
      "text/html": [
       "<div>\n",
       "<style scoped>\n",
       "    .dataframe tbody tr th:only-of-type {\n",
       "        vertical-align: middle;\n",
       "    }\n",
       "\n",
       "    .dataframe tbody tr th {\n",
       "        vertical-align: top;\n",
       "    }\n",
       "\n",
       "    .dataframe thead th {\n",
       "        text-align: right;\n",
       "    }\n",
       "</style>\n",
       "<table border=\"1\" class=\"dataframe\">\n",
       "  <thead>\n",
       "    <tr style=\"text-align: right;\">\n",
       "      <th></th>\n",
       "      <th>id</th>\n",
       "      <th>Name</th>\n",
       "      <th>Price</th>\n",
       "      <th>Size</th>\n",
       "      <th>Toppings</th>\n",
       "    </tr>\n",
       "  </thead>\n",
       "  <tbody>\n",
       "    <tr>\n",
       "      <th>0</th>\n",
       "      <td>15</td>\n",
       "      <td>Fis</td>\n",
       "      <td>20</td>\n",
       "      <td>Large</td>\n",
       "      <td>Bajskörvar</td>\n",
       "    </tr>\n",
       "  </tbody>\n",
       "</table>\n",
       "</div>"
      ],
      "text/plain": [
       "   id Name  Price   Size    Toppings\n",
       "0  15  Fis     20  Large  Bajskörvar"
      ]
     },
     "execution_count": 6,
     "metadata": {},
     "output_type": "execute_result"
    }
   ],
   "source": [
    "entry"
   ]
  },
  {
   "cell_type": "code",
   "execution_count": 7,
   "id": "94984704",
   "metadata": {},
   "outputs": [],
   "source": [
    "new_df = pd.concat([df,entry], ignore_index=True)"
   ]
  },
  {
   "cell_type": "code",
   "execution_count": 8,
   "id": "b119476f",
   "metadata": {},
   "outputs": [
    {
     "data": {
      "text/html": [
       "<div>\n",
       "<style scoped>\n",
       "    .dataframe tbody tr th:only-of-type {\n",
       "        vertical-align: middle;\n",
       "    }\n",
       "\n",
       "    .dataframe tbody tr th {\n",
       "        vertical-align: top;\n",
       "    }\n",
       "\n",
       "    .dataframe thead th {\n",
       "        text-align: right;\n",
       "    }\n",
       "</style>\n",
       "<table border=\"1\" class=\"dataframe\">\n",
       "  <thead>\n",
       "    <tr style=\"text-align: right;\">\n",
       "      <th></th>\n",
       "      <th>id</th>\n",
       "      <th>Name</th>\n",
       "      <th>Price</th>\n",
       "      <th>Size</th>\n",
       "      <th>Toppings</th>\n",
       "    </tr>\n",
       "  </thead>\n",
       "  <tbody>\n",
       "    <tr>\n",
       "      <th>0</th>\n",
       "      <td>1</td>\n",
       "      <td>Margherita</td>\n",
       "      <td>10</td>\n",
       "      <td>Medium</td>\n",
       "      <td>Tomato sauce, mozzarella</td>\n",
       "    </tr>\n",
       "    <tr>\n",
       "      <th>1</th>\n",
       "      <td>2</td>\n",
       "      <td>Pepperoni</td>\n",
       "      <td>11</td>\n",
       "      <td>Medium</td>\n",
       "      <td>Tomato sauce, mozzarella, pepperoni</td>\n",
       "    </tr>\n",
       "    <tr>\n",
       "      <th>2</th>\n",
       "      <td>3</td>\n",
       "      <td>Hawaii</td>\n",
       "      <td>11</td>\n",
       "      <td>Medium</td>\n",
       "      <td>Tomato sauce, mozzarella, ham, pineapple</td>\n",
       "    </tr>\n",
       "    <tr>\n",
       "      <th>3</th>\n",
       "      <td>4</td>\n",
       "      <td>Vegetarian</td>\n",
       "      <td>11</td>\n",
       "      <td>Medium</td>\n",
       "      <td>Tomato sauce, mozzarella, mushrooms, olives, p...</td>\n",
       "    </tr>\n",
       "    <tr>\n",
       "      <th>4</th>\n",
       "      <td>5</td>\n",
       "      <td>Seafood</td>\n",
       "      <td>12</td>\n",
       "      <td>Medium</td>\n",
       "      <td>Tomato sauce, mozzarella, shrimp, crab, tuna</td>\n",
       "    </tr>\n",
       "    <tr>\n",
       "      <th>5</th>\n",
       "      <td>6</td>\n",
       "      <td>Carbonara</td>\n",
       "      <td>12</td>\n",
       "      <td>Medium</td>\n",
       "      <td>Tomato sauce, mozzarella, bacon, egg</td>\n",
       "    </tr>\n",
       "    <tr>\n",
       "      <th>6</th>\n",
       "      <td>7</td>\n",
       "      <td>Quattro Stagioni</td>\n",
       "      <td>12</td>\n",
       "      <td>Large</td>\n",
       "      <td>Tomato sauce, mozzarella, ham, mushrooms, arti...</td>\n",
       "    </tr>\n",
       "    <tr>\n",
       "      <th>7</th>\n",
       "      <td>8</td>\n",
       "      <td>Quattro Formaggi</td>\n",
       "      <td>12</td>\n",
       "      <td>Large</td>\n",
       "      <td>Tomato sauce, mozzarella, gorgonzola, parmesan...</td>\n",
       "    </tr>\n",
       "    <tr>\n",
       "      <th>8</th>\n",
       "      <td>9</td>\n",
       "      <td>Napoli</td>\n",
       "      <td>13</td>\n",
       "      <td>Large</td>\n",
       "      <td>Tomato sauce, mozzarella, anchovies, capers</td>\n",
       "    </tr>\n",
       "    <tr>\n",
       "      <th>9</th>\n",
       "      <td>10</td>\n",
       "      <td>Calzone</td>\n",
       "      <td>13</td>\n",
       "      <td>Large</td>\n",
       "      <td>Tomato sauce, mozzarella, ham, mushrooms, peppers</td>\n",
       "    </tr>\n",
       "    <tr>\n",
       "      <th>10</th>\n",
       "      <td>15</td>\n",
       "      <td>Fis</td>\n",
       "      <td>20</td>\n",
       "      <td>Large</td>\n",
       "      <td>Bajskörvar</td>\n",
       "    </tr>\n",
       "  </tbody>\n",
       "</table>\n",
       "</div>"
      ],
      "text/plain": [
       "    id              Name  Price    Size  \\\n",
       "0    1        Margherita     10  Medium   \n",
       "1    2         Pepperoni     11  Medium   \n",
       "2    3            Hawaii     11  Medium   \n",
       "3    4        Vegetarian     11  Medium   \n",
       "4    5           Seafood     12  Medium   \n",
       "5    6         Carbonara     12  Medium   \n",
       "6    7  Quattro Stagioni     12   Large   \n",
       "7    8  Quattro Formaggi     12   Large   \n",
       "8    9            Napoli     13   Large   \n",
       "9   10           Calzone     13   Large   \n",
       "10  15               Fis     20   Large   \n",
       "\n",
       "                                             Toppings  \n",
       "0                            Tomato sauce, mozzarella  \n",
       "1                 Tomato sauce, mozzarella, pepperoni  \n",
       "2            Tomato sauce, mozzarella, ham, pineapple  \n",
       "3   Tomato sauce, mozzarella, mushrooms, olives, p...  \n",
       "4        Tomato sauce, mozzarella, shrimp, crab, tuna  \n",
       "5                Tomato sauce, mozzarella, bacon, egg  \n",
       "6   Tomato sauce, mozzarella, ham, mushrooms, arti...  \n",
       "7   Tomato sauce, mozzarella, gorgonzola, parmesan...  \n",
       "8         Tomato sauce, mozzarella, anchovies, capers  \n",
       "9   Tomato sauce, mozzarella, ham, mushrooms, peppers  \n",
       "10                                         Bajskörvar  "
      ]
     },
     "execution_count": 8,
     "metadata": {},
     "output_type": "execute_result"
    }
   ],
   "source": [
    "new_df"
   ]
  },
  {
   "cell_type": "code",
   "execution_count": 12,
   "id": "7d2469b2",
   "metadata": {},
   "outputs": [
    {
     "data": {
      "text/plain": [
       "10"
      ]
     },
     "execution_count": 12,
     "metadata": {},
     "output_type": "execute_result"
    }
   ],
   "source": [
    "df[\"id\"].max()"
   ]
  },
  {
   "cell_type": "code",
   "execution_count": 13,
   "id": "ab084f09",
   "metadata": {},
   "outputs": [],
   "source": [
    "asd = df[\"id\"].max() + 1"
   ]
  },
  {
   "cell_type": "code",
   "execution_count": 14,
   "id": "635e37dc",
   "metadata": {},
   "outputs": [
    {
     "data": {
      "text/plain": [
       "11"
      ]
     },
     "execution_count": 14,
     "metadata": {},
     "output_type": "execute_result"
    }
   ],
   "source": [
    "asd"
   ]
  },
  {
   "cell_type": "code",
   "execution_count": null,
   "id": "72bb5111",
   "metadata": {},
   "outputs": [],
   "source": []
  }
 ],
 "metadata": {
  "kernelspec": {
   "display_name": "Python 3 (ipykernel)",
   "language": "python",
   "name": "python3"
  },
  "language_info": {
   "codemirror_mode": {
    "name": "ipython",
    "version": 3
   },
   "file_extension": ".py",
   "mimetype": "text/x-python",
   "name": "python",
   "nbconvert_exporter": "python",
   "pygments_lexer": "ipython3",
   "version": "3.11.2"
  }
 },
 "nbformat": 4,
 "nbformat_minor": 5
}
